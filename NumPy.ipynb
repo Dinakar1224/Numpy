{
  "nbformat": 4,
  "nbformat_minor": 0,
  "metadata": {
    "colab": {
      "provenance": []
    },
    "kernelspec": {
      "name": "python3",
      "display_name": "Python 3"
    },
    "language_info": {
      "name": "python"
    }
  },
  "cells": [
    {
      "cell_type": "code",
      "execution_count": 3,
      "metadata": {
        "colab": {
          "base_uri": "https://localhost:8080/"
        },
        "id": "C14MMWBRcP9P",
        "outputId": "ccb6c069-6f0c-44fe-e6f6-63c12e78cf87"
      },
      "outputs": [
        {
          "output_type": "execute_result",
          "data": {
            "text/plain": [
              "array([[59, 49, 17],\n",
              "       [71, 40, 33],\n",
              "       [15, 36, 33]])"
            ]
          },
          "metadata": {},
          "execution_count": 3
        }
      ],
      "source": [
        "#1.Create a 3x3 NumPy array with random integers between 1 and 100. Then, interchange its rows and columns.\n",
        "import numpy as np\n",
        "array = np.random.randint(1, 101, size=(3, 3))\n",
        "array"
      ]
    },
    {
      "cell_type": "code",
      "source": [
        "array.T"
      ],
      "metadata": {
        "colab": {
          "base_uri": "https://localhost:8080/"
        },
        "id": "c5XhQkQHfZop",
        "outputId": "6e85aff4-d22e-4f04-f78d-1e234dd17c22"
      },
      "execution_count": 4,
      "outputs": [
        {
          "output_type": "execute_result",
          "data": {
            "text/plain": [
              "array([[59, 71, 15],\n",
              "       [49, 40, 36],\n",
              "       [17, 33, 33]])"
            ]
          },
          "metadata": {},
          "execution_count": 4
        }
      ]
    },
    {
      "cell_type": "code",
      "source": [
        "#2. Generate a 1D NumPy array with 10 elements. Reshape it into a 2x5 array, then into a 5x2 array.\n",
        "import numpy as np\n",
        "array_1d = np.arange(10)\n",
        "(array_1d)"
      ],
      "metadata": {
        "colab": {
          "base_uri": "https://localhost:8080/"
        },
        "id": "Q5rdYboTfsr8",
        "outputId": "2009fd76-80ee-4ce6-c36a-7f85703f4de8"
      },
      "execution_count": 5,
      "outputs": [
        {
          "output_type": "execute_result",
          "data": {
            "text/plain": [
              "array([0, 1, 2, 3, 4, 5, 6, 7, 8, 9])"
            ]
          },
          "metadata": {},
          "execution_count": 5
        }
      ]
    },
    {
      "cell_type": "code",
      "source": [
        "array_2x5 = array_1d.reshape(2, 5)\n",
        "array_2x5"
      ],
      "metadata": {
        "colab": {
          "base_uri": "https://localhost:8080/"
        },
        "id": "NFRjV8Skf5mO",
        "outputId": "8c49b745-28ef-4b7b-aa20-4bef8abd99fa"
      },
      "execution_count": 6,
      "outputs": [
        {
          "output_type": "execute_result",
          "data": {
            "text/plain": [
              "array([[0, 1, 2, 3, 4],\n",
              "       [5, 6, 7, 8, 9]])"
            ]
          },
          "metadata": {},
          "execution_count": 6
        }
      ]
    },
    {
      "cell_type": "code",
      "source": [
        "array_5x2 = array_2x5.reshape(5, 2)\n",
        "array_5x2"
      ],
      "metadata": {
        "colab": {
          "base_uri": "https://localhost:8080/"
        },
        "id": "RcuHEjQHf8o0",
        "outputId": "6adbc6ba-18ea-4bf8-c8f2-291dceba676f"
      },
      "execution_count": 7,
      "outputs": [
        {
          "output_type": "execute_result",
          "data": {
            "text/plain": [
              "array([[0, 1],\n",
              "       [2, 3],\n",
              "       [4, 5],\n",
              "       [6, 7],\n",
              "       [8, 9]])"
            ]
          },
          "metadata": {},
          "execution_count": 7
        }
      ]
    },
    {
      "cell_type": "code",
      "source": [
        "#3. Create a 4x4 NumPy array with random float values. Add a border of zeros around it, resulting in a 6x6 array.\n",
        "import numpy as np\n",
        "array_4x4 = np.random.rand(4, 4)\n",
        "array_4x4"
      ],
      "metadata": {
        "colab": {
          "base_uri": "https://localhost:8080/"
        },
        "id": "OXEP4_BggAtq",
        "outputId": "0727d341-a058-4c3b-c95a-baf5bb50f18b"
      },
      "execution_count": 63,
      "outputs": [
        {
          "output_type": "execute_result",
          "data": {
            "text/plain": [
              "array([[0.22866939, 0.57042762, 0.97405164, 0.06375973],\n",
              "       [0.65992066, 0.13542688, 0.64410275, 0.48051628],\n",
              "       [0.39066967, 0.74696382, 0.44665862, 0.23039431],\n",
              "       [0.31938534, 0.77280463, 0.08476092, 0.17925016]])"
            ]
          },
          "metadata": {},
          "execution_count": 63
        }
      ]
    },
    {
      "cell_type": "code",
      "source": [
        "array_6x6 = np.pad(array_4x4, pad_width=1, mode='constant', constant_values=0)\n",
        "print(\"\\n6x6 Array with Border of Zeros:\\n\", array_6x6)"
      ],
      "metadata": {
        "colab": {
          "base_uri": "https://localhost:8080/"
        },
        "id": "KtPTnVXNgShs",
        "outputId": "2ca669db-1b88-4616-ce39-22b3dae90835"
      },
      "execution_count": 68,
      "outputs": [
        {
          "output_type": "stream",
          "name": "stdout",
          "text": [
            "\n",
            "6x6 Array with Border of Zeros:\n",
            " [[0.         0.         0.         0.         0.         0.        ]\n",
            " [0.         0.22866939 0.57042762 0.97405164 0.06375973 0.        ]\n",
            " [0.         0.65992066 0.13542688 0.64410275 0.48051628 0.        ]\n",
            " [0.         0.39066967 0.74696382 0.44665862 0.23039431 0.        ]\n",
            " [0.         0.31938534 0.77280463 0.08476092 0.17925016 0.        ]\n",
            " [0.         0.         0.         0.         0.         0.        ]]\n"
          ]
        }
      ]
    },
    {
      "cell_type": "code",
      "source": [
        "#4. Using NumPy, create an array of integers from 10 to 60 with a step of 5.\n",
        "import numpy as np\n",
        "array = np.arange(10, 65, 5)\n",
        "array"
      ],
      "metadata": {
        "id": "H2UFJSUxjeaE",
        "outputId": "f7576219-c9da-40b7-e7be-5c79b8658d04",
        "colab": {
          "base_uri": "https://localhost:8080/"
        }
      },
      "execution_count": 23,
      "outputs": [
        {
          "output_type": "execute_result",
          "data": {
            "text/plain": [
              "array([10, 15, 20, 25, 30, 35, 40, 45, 50, 55, 60])"
            ]
          },
          "metadata": {},
          "execution_count": 23
        }
      ]
    },
    {
      "cell_type": "code",
      "source": [
        "#5. Create a NumPy array of strings ['python', 'numpy', 'pandas']. Apply different case transformations (uppercase, lowercase, title case, etc.) to each element.\n",
        "array = np.array(['python', 'numpy', 'pandas'])\n",
        "array"
      ],
      "metadata": {
        "id": "nmgWSXbujuS7",
        "outputId": "bbfb2ca3-884f-4f20-b1f7-6c1db6f28937",
        "colab": {
          "base_uri": "https://localhost:8080/"
        }
      },
      "execution_count": 38,
      "outputs": [
        {
          "output_type": "execute_result",
          "data": {
            "text/plain": [
              "array(['Python', 'Numpy', 'Pandas'], dtype='<U6')"
            ]
          },
          "metadata": {},
          "execution_count": 38
        }
      ]
    },
    {
      "cell_type": "code",
      "source": [
        "uppercase_array = np.char.upper(array)      # Convert to uppercase\n",
        "uppercase_array"
      ],
      "metadata": {
        "id": "3TMAhCitmy6q",
        "outputId": "9c31b23e-dc05-40ef-a535-db91d0d40540",
        "colab": {
          "base_uri": "https://localhost:8080/"
        }
      },
      "execution_count": 39,
      "outputs": [
        {
          "output_type": "execute_result",
          "data": {
            "text/plain": [
              "array(['PYTHON', 'NUMPY', 'PANDAS'], dtype='<U6')"
            ]
          },
          "metadata": {},
          "execution_count": 39
        }
      ]
    },
    {
      "cell_type": "code",
      "source": [
        "lowercase_array = np.char.lower(array)      # Convert to lowercase\n",
        "lowercase_array"
      ],
      "metadata": {
        "id": "W2yvcJbSm2A4",
        "outputId": "150c3363-e923-4e70-9044-e23dd7431cd1",
        "colab": {
          "base_uri": "https://localhost:8080/"
        }
      },
      "execution_count": 40,
      "outputs": [
        {
          "output_type": "execute_result",
          "data": {
            "text/plain": [
              "array(['python', 'numpy', 'pandas'], dtype='<U6')"
            ]
          },
          "metadata": {},
          "execution_count": 40
        }
      ]
    },
    {
      "cell_type": "code",
      "source": [
        "titlecase_array = np.char.title(array)      # Convert to title case\n",
        "titlecase_array"
      ],
      "metadata": {
        "id": "dCShEckKm6NT",
        "outputId": "2c96a3b5-d674-436c-8a68-7263029d8c38",
        "colab": {
          "base_uri": "https://localhost:8080/"
        }
      },
      "execution_count": 41,
      "outputs": [
        {
          "output_type": "execute_result",
          "data": {
            "text/plain": [
              "array(['Python', 'Numpy', 'Pandas'], dtype='<U6')"
            ]
          },
          "metadata": {},
          "execution_count": 41
        }
      ]
    },
    {
      "cell_type": "code",
      "source": [
        "capitalize_array = np.char.capitalize(array) # Capitalize the first letter of each element\n",
        "capitalize_array"
      ],
      "metadata": {
        "id": "hSTrj2ySm8Lk",
        "outputId": "a8eb0c87-a0e9-4c6f-d163-069cd47dfc48",
        "colab": {
          "base_uri": "https://localhost:8080/"
        }
      },
      "execution_count": 42,
      "outputs": [
        {
          "output_type": "execute_result",
          "data": {
            "text/plain": [
              "array(['Python', 'Numpy', 'Pandas'], dtype='<U6')"
            ]
          },
          "metadata": {},
          "execution_count": 42
        }
      ]
    },
    {
      "cell_type": "code",
      "source": [
        "#6.Generate a NumPy array of words. Insert a space between each character of every word in the array\n",
        "words_array = np.array(['python', 'numpy', 'pandas'])\n",
        "spaced = np.char.join(' ', words_array)\n",
        "spaced"
      ],
      "metadata": {
        "id": "KkUvdsMLleld",
        "outputId": "d0ddf19f-0625-48b9-d19e-c442771180da",
        "colab": {
          "base_uri": "https://localhost:8080/"
        }
      },
      "execution_count": 36,
      "outputs": [
        {
          "output_type": "execute_result",
          "data": {
            "text/plain": [
              "array(['p y t h o n', 'n u m p y', 'p a n d a s'], dtype='<U11')"
            ]
          },
          "metadata": {},
          "execution_count": 36
        }
      ]
    },
    {
      "cell_type": "code",
      "source": [
        "#7. Create two 2D NumPy arrays and perform element-wise addition, subtraction, multiplication, and division.\n",
        "array1 = np.array([[1, 2, 3], [4, 5, 6]])\n",
        "array1"
      ],
      "metadata": {
        "id": "Jiw1hxRAl_vW",
        "outputId": "0518587e-8bcb-48d1-bc35-7a8ccc9f898f",
        "colab": {
          "base_uri": "https://localhost:8080/"
        }
      },
      "execution_count": 49,
      "outputs": [
        {
          "output_type": "execute_result",
          "data": {
            "text/plain": [
              "array([[1, 2, 3],\n",
              "       [4, 5, 6]])"
            ]
          },
          "metadata": {},
          "execution_count": 49
        }
      ]
    },
    {
      "cell_type": "code",
      "source": [
        "array2 = np.array([[7, 8, 9], [10, 11, 12]])\n",
        "array2"
      ],
      "metadata": {
        "id": "2GHXkYhOoIUW",
        "outputId": "14018dde-737d-44cc-c39c-92204b95d728",
        "colab": {
          "base_uri": "https://localhost:8080/"
        }
      },
      "execution_count": 50,
      "outputs": [
        {
          "output_type": "execute_result",
          "data": {
            "text/plain": [
              "array([[ 7,  8,  9],\n",
              "       [10, 11, 12]])"
            ]
          },
          "metadata": {},
          "execution_count": 50
        }
      ]
    },
    {
      "cell_type": "code",
      "source": [
        "addition = array1 + array2\n",
        "addition"
      ],
      "metadata": {
        "id": "NByvAh6soPm3",
        "outputId": "0b42819d-e50e-4fd4-a7dc-5b26ea8f2e75",
        "colab": {
          "base_uri": "https://localhost:8080/"
        }
      },
      "execution_count": 51,
      "outputs": [
        {
          "output_type": "execute_result",
          "data": {
            "text/plain": [
              "array([[ 8, 10, 12],\n",
              "       [14, 16, 18]])"
            ]
          },
          "metadata": {},
          "execution_count": 51
        }
      ]
    },
    {
      "cell_type": "code",
      "source": [
        "subtraction = array1 - array2\n",
        "subtraction"
      ],
      "metadata": {
        "id": "B28muF2ToSZW",
        "outputId": "95bd4843-cb32-4a11-e1d1-c45a2d3c3d70",
        "colab": {
          "base_uri": "https://localhost:8080/"
        }
      },
      "execution_count": 52,
      "outputs": [
        {
          "output_type": "execute_result",
          "data": {
            "text/plain": [
              "array([[-6, -6, -6],\n",
              "       [-6, -6, -6]])"
            ]
          },
          "metadata": {},
          "execution_count": 52
        }
      ]
    },
    {
      "cell_type": "code",
      "source": [
        "multiplication = array1 * array2\n",
        "multiplication"
      ],
      "metadata": {
        "id": "udSUYYR0oh-u",
        "outputId": "54a52eca-5526-4fd1-85b2-55ba585dfc43",
        "colab": {
          "base_uri": "https://localhost:8080/"
        }
      },
      "execution_count": 53,
      "outputs": [
        {
          "output_type": "execute_result",
          "data": {
            "text/plain": [
              "array([[ 7, 16, 27],\n",
              "       [40, 55, 72]])"
            ]
          },
          "metadata": {},
          "execution_count": 53
        }
      ]
    },
    {
      "cell_type": "code",
      "source": [
        "division = array1 / array2\n",
        "division"
      ],
      "metadata": {
        "id": "CcXo7IoeolNo",
        "outputId": "6811a02d-b430-431f-91fd-dafb11784230",
        "colab": {
          "base_uri": "https://localhost:8080/"
        }
      },
      "execution_count": 54,
      "outputs": [
        {
          "output_type": "execute_result",
          "data": {
            "text/plain": [
              "array([[0.14285714, 0.25      , 0.33333333],\n",
              "       [0.4       , 0.45454545, 0.5       ]])"
            ]
          },
          "metadata": {},
          "execution_count": 54
        }
      ]
    },
    {
      "cell_type": "code",
      "source": [
        "#8. Use NumPy to create a 5x5 identity matrix, then extract its diagonal elements.\n",
        "identity_matrix = np.eye(5)\n",
        "identity_matrix"
      ],
      "metadata": {
        "id": "40qa0mBPoqRp",
        "outputId": "a01c8c13-0f90-4afa-e7df-283a59aeab8b",
        "colab": {
          "base_uri": "https://localhost:8080/"
        }
      },
      "execution_count": 57,
      "outputs": [
        {
          "output_type": "execute_result",
          "data": {
            "text/plain": [
              "array([[1., 0., 0., 0., 0.],\n",
              "       [0., 1., 0., 0., 0.],\n",
              "       [0., 0., 1., 0., 0.],\n",
              "       [0., 0., 0., 1., 0.],\n",
              "       [0., 0., 0., 0., 1.]])"
            ]
          },
          "metadata": {},
          "execution_count": 57
        }
      ]
    },
    {
      "cell_type": "code",
      "source": [
        "diagonal_elements = np.diag(identity_matrix)\n",
        "diagonal_elements"
      ],
      "metadata": {
        "id": "GhOK6IY7o5lC",
        "outputId": "0e7781d1-6f42-41ce-dc19-1144d5bb2c86",
        "colab": {
          "base_uri": "https://localhost:8080/"
        }
      },
      "execution_count": 58,
      "outputs": [
        {
          "output_type": "execute_result",
          "data": {
            "text/plain": [
              "array([1., 1., 1., 1., 1.])"
            ]
          },
          "metadata": {},
          "execution_count": 58
        }
      ]
    },
    {
      "cell_type": "code",
      "source": [
        "#9. Generate a NumPy array of 100 random integers between 0 and 1000. Find and display all prime numbers in this array.\n",
        "def is_prime(n):\n",
        "    if n <= 1:\n",
        "        return False\n",
        "    for i in range(2, int(np.sqrt(n)) + 1):\n",
        "        if n % i == 0:\n",
        "            return False\n",
        "    return True\n",
        "\n",
        "random_array = np.random.randint(0, 1001, size=100)\n",
        "random_array\n",
        "prime_numbers = np.array([num for num in random_array if is_prime(num)])\n",
        "prime_numbers"
      ],
      "metadata": {
        "id": "KkHzKpj7qObz",
        "outputId": "e55be95a-9630-44de-b519-b535ed2690d3",
        "colab": {
          "base_uri": "https://localhost:8080/"
        }
      },
      "execution_count": 70,
      "outputs": [
        {
          "output_type": "execute_result",
          "data": {
            "text/plain": [
              "array([863, 547, 941, 233, 523, 809, 541, 997, 761, 257, 101,  71, 421,\n",
              "       257, 349, 281, 409, 223])"
            ]
          },
          "metadata": {},
          "execution_count": 70
        }
      ]
    },
    {
      "cell_type": "code",
      "source": [
        "#10. Create a NumPy array representing daily temperatures for a month. Calculate and display the weekly averages.\n",
        "daily_temperatures = np.random.uniform(20, 35, 30)\n",
        "daily_temperatures"
      ],
      "metadata": {
        "id": "P2jEkLY7qdwm",
        "outputId": "1d99b036-5b05-4d4c-ba65-f8005d13a330",
        "colab": {
          "base_uri": "https://localhost:8080/"
        }
      },
      "execution_count": 72,
      "outputs": [
        {
          "output_type": "execute_result",
          "data": {
            "text/plain": [
              "array([30.7095047 , 25.47733608, 20.52620485, 27.65259091, 33.24574495,\n",
              "       24.68355394, 32.14753232, 20.60683573, 25.53795028, 34.70506819,\n",
              "       21.66083899, 23.98769653, 31.27119446, 33.6199068 , 28.44977594,\n",
              "       28.90581512, 34.58173314, 32.30322355, 32.15331169, 21.01068934,\n",
              "       28.75071381, 26.87555957, 31.96079338, 30.0533574 , 21.36211231,\n",
              "       26.42980546, 23.99997648, 33.75406893, 28.12852742, 33.57707165])"
            ]
          },
          "metadata": {},
          "execution_count": 72
        }
      ]
    },
    {
      "cell_type": "code",
      "source": [
        "reshaped_temperatures = np.array_split(daily_temperatures, 5)\n",
        "reshaped_temperatures"
      ],
      "metadata": {
        "id": "NEoRsuS7qqbn",
        "outputId": "8f415ebd-eac2-4689-f2ff-39f0720928ec",
        "colab": {
          "base_uri": "https://localhost:8080/"
        }
      },
      "execution_count": 73,
      "outputs": [
        {
          "output_type": "execute_result",
          "data": {
            "text/plain": [
              "[array([30.7095047 , 25.47733608, 20.52620485, 27.65259091, 33.24574495,\n",
              "        24.68355394]),\n",
              " array([32.14753232, 20.60683573, 25.53795028, 34.70506819, 21.66083899,\n",
              "        23.98769653]),\n",
              " array([31.27119446, 33.6199068 , 28.44977594, 28.90581512, 34.58173314,\n",
              "        32.30322355]),\n",
              " array([32.15331169, 21.01068934, 28.75071381, 26.87555957, 31.96079338,\n",
              "        30.0533574 ]),\n",
              " array([21.36211231, 26.42980546, 23.99997648, 33.75406893, 28.12852742,\n",
              "        33.57707165])]"
            ]
          },
          "metadata": {},
          "execution_count": 73
        }
      ]
    },
    {
      "cell_type": "code",
      "source": [
        "weekly_averages = np.array([week.mean() for week in reshaped_temperatures])\n",
        "weekly_averages"
      ],
      "metadata": {
        "id": "EUW9SF_Rq1WD",
        "outputId": "93c77795-168a-4e11-a2ff-1c08b206bac3",
        "colab": {
          "base_uri": "https://localhost:8080/"
        }
      },
      "execution_count": 75,
      "outputs": [
        {
          "output_type": "execute_result",
          "data": {
            "text/plain": [
              "array([27.0491559 , 26.44098701, 31.5219415 , 28.4674042 , 27.87526038])"
            ]
          },
          "metadata": {},
          "execution_count": 75
        }
      ]
    },
    {
      "cell_type": "code",
      "source": [
        "for i, avg in enumerate(weekly_averages, start=1):\n",
        "    print(f\"Week {i} average temperature: {avg:.2f}°C\")"
      ],
      "metadata": {
        "id": "gMQBqYF3q6Z-",
        "outputId": "6572f522-1539-4ede-a172-7eaa9049424a",
        "colab": {
          "base_uri": "https://localhost:8080/"
        }
      },
      "execution_count": 76,
      "outputs": [
        {
          "output_type": "stream",
          "name": "stdout",
          "text": [
            "Week 1 average temperature: 27.05°C\n",
            "Week 2 average temperature: 26.44°C\n",
            "Week 3 average temperature: 31.52°C\n",
            "Week 4 average temperature: 28.47°C\n",
            "Week 5 average temperature: 27.88°C\n"
          ]
        }
      ]
    }
  ]
}